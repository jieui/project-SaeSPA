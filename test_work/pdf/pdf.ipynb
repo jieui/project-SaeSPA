{
 "cells": [
  {
   "cell_type": "markdown",
   "metadata": {},
   "source": [
    "- def summarize_text(user_test, lang='en') #요약 함수\n",
    "- \n",
    "- def summarize_test_fianl() #페이지별 요약문을 추출한 후, 리스트로 받아 하나의 문자열로 연결한 후 다시 최종 요약 함수\n",
    "-   \tfinal_summary = summarize_text(joined_summary, lang)\n",
    "- \n",
    "- ##메인코드\n",
    "- pdf 읽어오기 코드 추가\n",
    "- #summay=summarize_text(page_text) #영어로 요약\n",
    "- #summay=summarize_text(page_text, \"ko\") #한국어로 요약\n",
    "- final_summary = summarize_text_final(text_summaries) #영어로 요약\n",
    "- final_summary = summarize_text_final(text_summaries) # 한국어로 요약\n"
   ]
  },
  {
   "cell_type": "code",
   "execution_count": null,
   "metadata": {},
   "outputs": [],
   "source": [
    "# 둘다 매소드 \n",
    "# 클래스로 감싸고 final()만 접근할꺼임 \n",
    "# summarize_text()는 내장합수로 외부에서 접근 못하게\n"
   ]
  },
  {
   "cell_type": "code",
   "execution_count": null,
   "metadata": {},
   "outputs": [],
   "source": [
    "!pip install PyPDF2\n",
    "!pip install tiktoken ##Requires-Python >=3.9\n",
    "!pip install openai==0.28"
   ]
  },
  {
   "cell_type": "code",
   "execution_count": null,
   "metadata": {},
   "outputs": [],
   "source": [
    "import openai\n",
    "\n",
    "# openai 패키지의 버전 출력\n",
    "print(\"OpenAI 패키지 버전:\", openai.__version__)"
   ]
  },
  {
   "cell_type": "markdown",
   "metadata": {},
   "source": [
    "# Summarize_text() 함수 "
   ]
  },
  {
   "cell_type": "code",
   "execution_count": 14,
   "metadata": {},
   "outputs": [],
   "source": [
    "import openai\n",
    "import os\n",
    "\n",
    "# OpenAI 라이브러리를 이용해 텍스트를 요약하는 함수\n",
    "def summarize_text(user_text, lang=\"en\"): # lang 인자에 영어를 기본적으로 지정\n",
    "    # API 키 설정\n",
    "    openai.api_key = \"\"\n",
    "\n",
    "    # 대화 메시지 정의\n",
    "    if lang == \"en\":\n",
    "        messages = [ \n",
    "            {\"role\": \"system\", \"content\": \"You are a helpful assistant in the summary.\"},\n",
    "            {\"role\": \"user\", \"content\": f\"Summarize the following. \\n {user_text}\"}\n",
    "        ]\n",
    "    elif lang == \"ko\":\n",
    "        messages = [ \n",
    "            {\"role\": \"system\", \"content\": \"You are a helpful assistant in the summary.\"},\n",
    "            {\"role\": \"user\", \"content\": f\"다음의 내용을 한국어로 요약해 주세요 \\n {user_text}\"}\n",
    "#             {\"role\": \"user\", \"content\": f\"Summarize the following in Korea. \\n {user_text}\"}\n",
    "        ]\n",
    "        \n",
    "    # Chat Completions API 호출\n",
    "    response = openai.ChatCompletion.create(\n",
    "                            model=\"gpt-3.5-turbo\", # 사용할 모델 선택 \n",
    "                            messages=messages, # 전달할 메시지 지정\n",
    "                            max_tokens=2000,  # 응답 최대 토큰 수 지정 \n",
    "                            # max_tokens=100,  # 응답 최대 토큰 수 지정 \n",
    "                            temperature=0.3,  # 완성의 다양성을 조절하는 온도 설정\n",
    "                            n=1              # 생성할 완성의 개수 지정\n",
    "    )     \n",
    "    summary = response[\"choices\"][0][\"message\"][\"content\"]\n",
    "    return summary"
   ]
  },
  {
   "cell_type": "markdown",
   "metadata": {},
   "source": [
    "# PDF읽고 텍스트 추출 후 summarize_text()이용해서 요약 내용 출력"
   ]
  },
  {
   "cell_type": "markdown",
   "metadata": {},
   "source": [
    "- pdf를 텍스트로 추출"
   ]
  },
  {
   "cell_type": "code",
   "execution_count": 2,
   "metadata": {},
   "outputs": [],
   "source": [
    "from PyPDF2 import PdfReader\n",
    "import textwrap\n",
    "\n",
    "pdf_file = 'C:/Users/bluecom010/Desktop/지의/인공지능서비스_실습/pyai-main/pyai-main/data/President_Obamas_Farewell_Address_영어_원본.pdf' # PDF 파일 경로\n",
    "reader = PdfReader(pdf_file) # PDF 문서 읽기\n",
    "page = reader.pages[0]      # 첫 페이지 내용 가져옴 \n",
    "page_text = page.extract_text() # 페이지의 텍스트 추출 "
   ]
  },
  {
   "cell_type": "markdown",
   "metadata": {},
   "source": []
  },
  {
   "cell_type": "markdown",
   "metadata": {},
   "source": [
    "- 영어로 요약"
   ]
  },
  {
   "cell_type": "code",
   "execution_count": 3,
   "metadata": {},
   "outputs": [
    {
     "name": "stdout",
     "output_type": "stream",
     "text": [
      "[페이지 요약(축약)]\n",
      " President Obama delivered his Farewell Address in Chicago on January 10, 2017, expressing gratitude to the American people for their support and engagement during his presidency. He reflected on his early days in Chicago, emphasizing the [..이하 생략..]\n"
     ]
    }
   ],
   "source": [
    "summary = summarize_text(page_text) # 첫 페이지 요약 (영어)\n",
    "\n",
    "# 텍스트 축약\n",
    "shorten_summary = textwrap.shorten(summary, 250, placeholder=' [..이하 생략..]')\n",
    "\n",
    "print(\"[페이지 요약(축약)]\\n\", shorten_summary) # 요약 내용 출력(축약)\n",
    "# print(\"[페이지 요약]\\n\", summary) # 요약 내용 출력"
   ]
  },
  {
   "cell_type": "markdown",
   "metadata": {},
   "source": [
    "- 한국어로 요약"
   ]
  },
  {
   "cell_type": "code",
   "execution_count": 4,
   "metadata": {},
   "outputs": [
    {
     "name": "stdout",
     "output_type": "stream",
     "text": [
      "[페이지 요약]\n",
      " 2017년 1월 10일 대통령 오바마의 작별 연설 내용은 다음과 같습니다. 오바마 대통령은 시카고에서 연설을 하며 미국 국민들에게 감사의 말을 전했습니다. 그동안 국민들과의 대화를 통해 더 나은 대통령과 사람이 되도록 배웠다고 말했으며, 변화는 일반 국민들이 참여하고 요구할 때 일어난다는 것을 강조했습니다. 또한 미국의 자유와 민주주의에 대한 중요성을 강조하며, 개인적인 꿈을 실현하고 공동의 선취를 위해 노력하는 것이 중요하다고 말했습니다.\n"
     ]
    }
   ],
   "source": [
    "summary = summarize_text(page_text, \"ko\") # 첫 페이지 요약 (한국어)\n",
    "\n",
    "# 텍스트 축약\n",
    "shorten_summary = textwrap.shorten(summary, 250, placeholder=' [..이하 생략..]')\n",
    "\n",
    "# print(\"[페이지 요약(축약)]\\n\", shorten_summary) # 요약 내용 출력(축약)\n",
    "print(\"[페이지 요약]\\n\", summary) # 요약 내용 출력"
   ]
  },
  {
   "cell_type": "markdown",
   "metadata": {},
   "source": [
    "# 위의 코드는 pdf의 1페이지를 텍스트로 추출해서 요약한 거 \n",
    "# 아래 코드는 pdf의 전체를 텍스트로 추출해서 요약한 거"
   ]
  },
  {
   "cell_type": "code",
   "execution_count": 15,
   "metadata": {},
   "outputs": [
    {
     "name": "stdout",
     "output_type": "stream",
     "text": [
      "- 요약 개수: 2\n"
     ]
    }
   ],
   "source": [
    "\n",
    "###############테스트 코드: 페이지수를 2페이지까지로 제한 둠 #################\n",
    "import openai\n",
    "from PyPDF2 import PdfReader\n",
    "import tiktoken\n",
    "import os\n",
    "\n",
    "pdf_file = 'C:/Users/bluecom010/Desktop/지의/인공지능서비스_실습/pyai-main/pyai-main/data/President_Obamas_Farewell_Address_영어_원본.pdf' # PDF 파일 경로\n",
    "\n",
    "reader = PdfReader(pdf_file) # PDF 문서 읽기\n",
    "\n",
    "text_summaries = []\n",
    "\n",
    "for page_index in range(2):  # reader.pages[0], reader.pages[1]만 사용\n",
    "    page_text = reader.pages[page_index].extract_text()  # 페이지의 텍스트 추출\n",
    "    text_summary = summarize_text(page_text)\n",
    "    text_summaries.append(text_summary)\n",
    "\n",
    "print(\"- 요약 개수:\", len(text_summaries))\n"
   ]
  },
  {
   "cell_type": "code",
   "execution_count": 13,
   "metadata": {},
   "outputs": [
    {
     "ename": "RateLimitError",
     "evalue": "Rate limit reached for gpt-3.5-turbo in organization org-JVaDpxulIrhm0AhGgZCwIvRN on requests per min (RPM): Limit 3, Used 3, Requested 1. Please try again in 20s. Visit https://platform.openai.com/account/rate-limits to learn more. You can increase your rate limit by adding a payment method to your account at https://platform.openai.com/account/billing.",
     "output_type": "error",
     "traceback": [
      "\u001b[1;31m---------------------------------------------------------------------------\u001b[0m",
      "\u001b[1;31mRateLimitError\u001b[0m                            Traceback (most recent call last)",
      "Cell \u001b[1;32mIn[13], line 14\u001b[0m\n\u001b[0;32m     12\u001b[0m \u001b[38;5;28;01mfor\u001b[39;00m page \u001b[38;5;129;01min\u001b[39;00m reader\u001b[38;5;241m.\u001b[39mpages:\n\u001b[0;32m     13\u001b[0m     page_text \u001b[38;5;241m=\u001b[39m page\u001b[38;5;241m.\u001b[39mextract_text() \u001b[38;5;66;03m# 페이지의 텍스트 추출\u001b[39;00m\n\u001b[1;32m---> 14\u001b[0m     text_summary \u001b[38;5;241m=\u001b[39m \u001b[43msummarize_text\u001b[49m\u001b[43m(\u001b[49m\u001b[43mpage_text\u001b[49m\u001b[43m)\u001b[49m\n\u001b[0;32m     15\u001b[0m     text_summaries\u001b[38;5;241m.\u001b[39mappend(text_summary)\n\u001b[0;32m     17\u001b[0m \u001b[38;5;28mprint\u001b[39m(\u001b[38;5;124m\"\u001b[39m\u001b[38;5;124m- 요약 개수:\u001b[39m\u001b[38;5;124m\"\u001b[39m, \u001b[38;5;28mlen\u001b[39m(text_summaries))\n",
      "Cell \u001b[1;32mIn[12], line 23\u001b[0m, in \u001b[0;36msummarize_text\u001b[1;34m(user_text, lang)\u001b[0m\n\u001b[0;32m     16\u001b[0m         messages \u001b[38;5;241m=\u001b[39m [ \n\u001b[0;32m     17\u001b[0m             {\u001b[38;5;124m\"\u001b[39m\u001b[38;5;124mrole\u001b[39m\u001b[38;5;124m\"\u001b[39m: \u001b[38;5;124m\"\u001b[39m\u001b[38;5;124msystem\u001b[39m\u001b[38;5;124m\"\u001b[39m, \u001b[38;5;124m\"\u001b[39m\u001b[38;5;124mcontent\u001b[39m\u001b[38;5;124m\"\u001b[39m: \u001b[38;5;124m\"\u001b[39m\u001b[38;5;124mYou are a helpful assistant in the summary.\u001b[39m\u001b[38;5;124m\"\u001b[39m},\n\u001b[0;32m     18\u001b[0m             {\u001b[38;5;124m\"\u001b[39m\u001b[38;5;124mrole\u001b[39m\u001b[38;5;124m\"\u001b[39m: \u001b[38;5;124m\"\u001b[39m\u001b[38;5;124muser\u001b[39m\u001b[38;5;124m\"\u001b[39m, \u001b[38;5;124m\"\u001b[39m\u001b[38;5;124mcontent\u001b[39m\u001b[38;5;124m\"\u001b[39m: \u001b[38;5;124mf\u001b[39m\u001b[38;5;124m\"\u001b[39m\u001b[38;5;124m다음의 내용을 한국어로 요약해 주세요 \u001b[39m\u001b[38;5;130;01m\\n\u001b[39;00m\u001b[38;5;124m \u001b[39m\u001b[38;5;132;01m{\u001b[39;00muser_text\u001b[38;5;132;01m}\u001b[39;00m\u001b[38;5;124m\"\u001b[39m}\n\u001b[0;32m     19\u001b[0m \u001b[38;5;66;03m#             {\"role\": \"user\", \"content\": f\"Summarize the following in Korea. \\n {user_text}\"}\u001b[39;00m\n\u001b[0;32m     20\u001b[0m         ]\n\u001b[0;32m     22\u001b[0m     \u001b[38;5;66;03m# Chat Completions API 호출\u001b[39;00m\n\u001b[1;32m---> 23\u001b[0m     response \u001b[38;5;241m=\u001b[39m \u001b[43mopenai\u001b[49m\u001b[38;5;241;43m.\u001b[39;49m\u001b[43mChatCompletion\u001b[49m\u001b[38;5;241;43m.\u001b[39;49m\u001b[43mcreate\u001b[49m\u001b[43m(\u001b[49m\n\u001b[0;32m     24\u001b[0m \u001b[43m                            \u001b[49m\u001b[43mmodel\u001b[49m\u001b[38;5;241;43m=\u001b[39;49m\u001b[38;5;124;43m\"\u001b[39;49m\u001b[38;5;124;43mgpt-3.5-turbo\u001b[39;49m\u001b[38;5;124;43m\"\u001b[39;49m\u001b[43m,\u001b[49m\u001b[43m \u001b[49m\u001b[38;5;66;43;03m# 사용할 모델 선택 \u001b[39;49;00m\n\u001b[0;32m     25\u001b[0m \u001b[43m                            \u001b[49m\u001b[43mmessages\u001b[49m\u001b[38;5;241;43m=\u001b[39;49m\u001b[43mmessages\u001b[49m\u001b[43m,\u001b[49m\u001b[43m \u001b[49m\u001b[38;5;66;43;03m# 전달할 메시지 지정\u001b[39;49;00m\n\u001b[0;32m     26\u001b[0m \u001b[43m                            \u001b[49m\u001b[38;5;66;43;03m# max_tokens=2000,  # 응답 최대 토큰 수 지정 \u001b[39;49;00m\n\u001b[0;32m     27\u001b[0m \u001b[43m                            \u001b[49m\u001b[43mmax_tokens\u001b[49m\u001b[38;5;241;43m=\u001b[39;49m\u001b[38;5;241;43m100\u001b[39;49m\u001b[43m,\u001b[49m\u001b[43m  \u001b[49m\u001b[38;5;66;43;03m# 응답 최대 토큰 수 지정 \u001b[39;49;00m\n\u001b[0;32m     28\u001b[0m \u001b[43m                            \u001b[49m\u001b[43mtemperature\u001b[49m\u001b[38;5;241;43m=\u001b[39;49m\u001b[38;5;241;43m0.3\u001b[39;49m\u001b[43m,\u001b[49m\u001b[43m  \u001b[49m\u001b[38;5;66;43;03m# 완성의 다양성을 조절하는 온도 설정\u001b[39;49;00m\n\u001b[0;32m     29\u001b[0m \u001b[43m                            \u001b[49m\u001b[43mn\u001b[49m\u001b[38;5;241;43m=\u001b[39;49m\u001b[38;5;241;43m1\u001b[39;49m\u001b[43m              \u001b[49m\u001b[38;5;66;43;03m# 생성할 완성의 개수 지정\u001b[39;49;00m\n\u001b[0;32m     30\u001b[0m \u001b[43m    \u001b[49m\u001b[43m)\u001b[49m     \n\u001b[0;32m     31\u001b[0m     summary \u001b[38;5;241m=\u001b[39m response[\u001b[38;5;124m\"\u001b[39m\u001b[38;5;124mchoices\u001b[39m\u001b[38;5;124m\"\u001b[39m][\u001b[38;5;241m0\u001b[39m][\u001b[38;5;124m\"\u001b[39m\u001b[38;5;124mmessage\u001b[39m\u001b[38;5;124m\"\u001b[39m][\u001b[38;5;124m\"\u001b[39m\u001b[38;5;124mcontent\u001b[39m\u001b[38;5;124m\"\u001b[39m]\n\u001b[0;32m     32\u001b[0m     \u001b[38;5;28;01mreturn\u001b[39;00m summary\n",
      "File \u001b[1;32mc:\\Users\\bluecom010\\miniconda3\\envs\\OCR_C\\Lib\\site-packages\\openai\\api_resources\\chat_completion.py:25\u001b[0m, in \u001b[0;36mChatCompletion.create\u001b[1;34m(cls, *args, **kwargs)\u001b[0m\n\u001b[0;32m     23\u001b[0m \u001b[38;5;28;01mwhile\u001b[39;00m \u001b[38;5;28;01mTrue\u001b[39;00m:\n\u001b[0;32m     24\u001b[0m     \u001b[38;5;28;01mtry\u001b[39;00m:\n\u001b[1;32m---> 25\u001b[0m         \u001b[38;5;28;01mreturn\u001b[39;00m \u001b[38;5;28;43msuper\u001b[39;49m\u001b[43m(\u001b[49m\u001b[43m)\u001b[49m\u001b[38;5;241;43m.\u001b[39;49m\u001b[43mcreate\u001b[49m\u001b[43m(\u001b[49m\u001b[38;5;241;43m*\u001b[39;49m\u001b[43margs\u001b[49m\u001b[43m,\u001b[49m\u001b[43m \u001b[49m\u001b[38;5;241;43m*\u001b[39;49m\u001b[38;5;241;43m*\u001b[39;49m\u001b[43mkwargs\u001b[49m\u001b[43m)\u001b[49m\n\u001b[0;32m     26\u001b[0m     \u001b[38;5;28;01mexcept\u001b[39;00m TryAgain \u001b[38;5;28;01mas\u001b[39;00m e:\n\u001b[0;32m     27\u001b[0m         \u001b[38;5;28;01mif\u001b[39;00m timeout \u001b[38;5;129;01mis\u001b[39;00m \u001b[38;5;129;01mnot\u001b[39;00m \u001b[38;5;28;01mNone\u001b[39;00m \u001b[38;5;129;01mand\u001b[39;00m time\u001b[38;5;241m.\u001b[39mtime() \u001b[38;5;241m>\u001b[39m start \u001b[38;5;241m+\u001b[39m timeout:\n",
      "File \u001b[1;32mc:\\Users\\bluecom010\\miniconda3\\envs\\OCR_C\\Lib\\site-packages\\openai\\api_resources\\abstract\\engine_api_resource.py:153\u001b[0m, in \u001b[0;36mEngineAPIResource.create\u001b[1;34m(cls, api_key, api_base, api_type, request_id, api_version, organization, **params)\u001b[0m\n\u001b[0;32m    127\u001b[0m \u001b[38;5;129m@classmethod\u001b[39m\n\u001b[0;32m    128\u001b[0m \u001b[38;5;28;01mdef\u001b[39;00m \u001b[38;5;21mcreate\u001b[39m(\n\u001b[0;32m    129\u001b[0m     \u001b[38;5;28mcls\u001b[39m,\n\u001b[1;32m   (...)\u001b[0m\n\u001b[0;32m    136\u001b[0m     \u001b[38;5;241m*\u001b[39m\u001b[38;5;241m*\u001b[39mparams,\n\u001b[0;32m    137\u001b[0m ):\n\u001b[0;32m    138\u001b[0m     (\n\u001b[0;32m    139\u001b[0m         deployment_id,\n\u001b[0;32m    140\u001b[0m         engine,\n\u001b[1;32m   (...)\u001b[0m\n\u001b[0;32m    150\u001b[0m         api_key, api_base, api_type, api_version, organization, \u001b[38;5;241m*\u001b[39m\u001b[38;5;241m*\u001b[39mparams\n\u001b[0;32m    151\u001b[0m     )\n\u001b[1;32m--> 153\u001b[0m     response, _, api_key \u001b[38;5;241m=\u001b[39m \u001b[43mrequestor\u001b[49m\u001b[38;5;241;43m.\u001b[39;49m\u001b[43mrequest\u001b[49m\u001b[43m(\u001b[49m\n\u001b[0;32m    154\u001b[0m \u001b[43m        \u001b[49m\u001b[38;5;124;43m\"\u001b[39;49m\u001b[38;5;124;43mpost\u001b[39;49m\u001b[38;5;124;43m\"\u001b[39;49m\u001b[43m,\u001b[49m\n\u001b[0;32m    155\u001b[0m \u001b[43m        \u001b[49m\u001b[43murl\u001b[49m\u001b[43m,\u001b[49m\n\u001b[0;32m    156\u001b[0m \u001b[43m        \u001b[49m\u001b[43mparams\u001b[49m\u001b[38;5;241;43m=\u001b[39;49m\u001b[43mparams\u001b[49m\u001b[43m,\u001b[49m\n\u001b[0;32m    157\u001b[0m \u001b[43m        \u001b[49m\u001b[43mheaders\u001b[49m\u001b[38;5;241;43m=\u001b[39;49m\u001b[43mheaders\u001b[49m\u001b[43m,\u001b[49m\n\u001b[0;32m    158\u001b[0m \u001b[43m        \u001b[49m\u001b[43mstream\u001b[49m\u001b[38;5;241;43m=\u001b[39;49m\u001b[43mstream\u001b[49m\u001b[43m,\u001b[49m\n\u001b[0;32m    159\u001b[0m \u001b[43m        \u001b[49m\u001b[43mrequest_id\u001b[49m\u001b[38;5;241;43m=\u001b[39;49m\u001b[43mrequest_id\u001b[49m\u001b[43m,\u001b[49m\n\u001b[0;32m    160\u001b[0m \u001b[43m        \u001b[49m\u001b[43mrequest_timeout\u001b[49m\u001b[38;5;241;43m=\u001b[39;49m\u001b[43mrequest_timeout\u001b[49m\u001b[43m,\u001b[49m\n\u001b[0;32m    161\u001b[0m \u001b[43m    \u001b[49m\u001b[43m)\u001b[49m\n\u001b[0;32m    163\u001b[0m     \u001b[38;5;28;01mif\u001b[39;00m stream:\n\u001b[0;32m    164\u001b[0m         \u001b[38;5;66;03m# must be an iterator\u001b[39;00m\n\u001b[0;32m    165\u001b[0m         \u001b[38;5;28;01massert\u001b[39;00m \u001b[38;5;129;01mnot\u001b[39;00m \u001b[38;5;28misinstance\u001b[39m(response, OpenAIResponse)\n",
      "File \u001b[1;32mc:\\Users\\bluecom010\\miniconda3\\envs\\OCR_C\\Lib\\site-packages\\openai\\api_requestor.py:298\u001b[0m, in \u001b[0;36mAPIRequestor.request\u001b[1;34m(self, method, url, params, headers, files, stream, request_id, request_timeout)\u001b[0m\n\u001b[0;32m    277\u001b[0m \u001b[38;5;28;01mdef\u001b[39;00m \u001b[38;5;21mrequest\u001b[39m(\n\u001b[0;32m    278\u001b[0m     \u001b[38;5;28mself\u001b[39m,\n\u001b[0;32m    279\u001b[0m     method,\n\u001b[1;32m   (...)\u001b[0m\n\u001b[0;32m    286\u001b[0m     request_timeout: Optional[Union[\u001b[38;5;28mfloat\u001b[39m, Tuple[\u001b[38;5;28mfloat\u001b[39m, \u001b[38;5;28mfloat\u001b[39m]]] \u001b[38;5;241m=\u001b[39m \u001b[38;5;28;01mNone\u001b[39;00m,\n\u001b[0;32m    287\u001b[0m ) \u001b[38;5;241m-\u001b[39m\u001b[38;5;241m>\u001b[39m Tuple[Union[OpenAIResponse, Iterator[OpenAIResponse]], \u001b[38;5;28mbool\u001b[39m, \u001b[38;5;28mstr\u001b[39m]:\n\u001b[0;32m    288\u001b[0m     result \u001b[38;5;241m=\u001b[39m \u001b[38;5;28mself\u001b[39m\u001b[38;5;241m.\u001b[39mrequest_raw(\n\u001b[0;32m    289\u001b[0m         method\u001b[38;5;241m.\u001b[39mlower(),\n\u001b[0;32m    290\u001b[0m         url,\n\u001b[1;32m   (...)\u001b[0m\n\u001b[0;32m    296\u001b[0m         request_timeout\u001b[38;5;241m=\u001b[39mrequest_timeout,\n\u001b[0;32m    297\u001b[0m     )\n\u001b[1;32m--> 298\u001b[0m     resp, got_stream \u001b[38;5;241m=\u001b[39m \u001b[38;5;28;43mself\u001b[39;49m\u001b[38;5;241;43m.\u001b[39;49m\u001b[43m_interpret_response\u001b[49m\u001b[43m(\u001b[49m\u001b[43mresult\u001b[49m\u001b[43m,\u001b[49m\u001b[43m \u001b[49m\u001b[43mstream\u001b[49m\u001b[43m)\u001b[49m\n\u001b[0;32m    299\u001b[0m     \u001b[38;5;28;01mreturn\u001b[39;00m resp, got_stream, \u001b[38;5;28mself\u001b[39m\u001b[38;5;241m.\u001b[39mapi_key\n",
      "File \u001b[1;32mc:\\Users\\bluecom010\\miniconda3\\envs\\OCR_C\\Lib\\site-packages\\openai\\api_requestor.py:700\u001b[0m, in \u001b[0;36mAPIRequestor._interpret_response\u001b[1;34m(self, result, stream)\u001b[0m\n\u001b[0;32m    692\u001b[0m     \u001b[38;5;28;01mreturn\u001b[39;00m (\n\u001b[0;32m    693\u001b[0m         \u001b[38;5;28mself\u001b[39m\u001b[38;5;241m.\u001b[39m_interpret_response_line(\n\u001b[0;32m    694\u001b[0m             line, result\u001b[38;5;241m.\u001b[39mstatus_code, result\u001b[38;5;241m.\u001b[39mheaders, stream\u001b[38;5;241m=\u001b[39m\u001b[38;5;28;01mTrue\u001b[39;00m\n\u001b[0;32m    695\u001b[0m         )\n\u001b[0;32m    696\u001b[0m         \u001b[38;5;28;01mfor\u001b[39;00m line \u001b[38;5;129;01min\u001b[39;00m parse_stream(result\u001b[38;5;241m.\u001b[39miter_lines())\n\u001b[0;32m    697\u001b[0m     ), \u001b[38;5;28;01mTrue\u001b[39;00m\n\u001b[0;32m    698\u001b[0m \u001b[38;5;28;01melse\u001b[39;00m:\n\u001b[0;32m    699\u001b[0m     \u001b[38;5;28;01mreturn\u001b[39;00m (\n\u001b[1;32m--> 700\u001b[0m         \u001b[38;5;28;43mself\u001b[39;49m\u001b[38;5;241;43m.\u001b[39;49m\u001b[43m_interpret_response_line\u001b[49m\u001b[43m(\u001b[49m\n\u001b[0;32m    701\u001b[0m \u001b[43m            \u001b[49m\u001b[43mresult\u001b[49m\u001b[38;5;241;43m.\u001b[39;49m\u001b[43mcontent\u001b[49m\u001b[38;5;241;43m.\u001b[39;49m\u001b[43mdecode\u001b[49m\u001b[43m(\u001b[49m\u001b[38;5;124;43m\"\u001b[39;49m\u001b[38;5;124;43mutf-8\u001b[39;49m\u001b[38;5;124;43m\"\u001b[39;49m\u001b[43m)\u001b[49m\u001b[43m,\u001b[49m\n\u001b[0;32m    702\u001b[0m \u001b[43m            \u001b[49m\u001b[43mresult\u001b[49m\u001b[38;5;241;43m.\u001b[39;49m\u001b[43mstatus_code\u001b[49m\u001b[43m,\u001b[49m\n\u001b[0;32m    703\u001b[0m \u001b[43m            \u001b[49m\u001b[43mresult\u001b[49m\u001b[38;5;241;43m.\u001b[39;49m\u001b[43mheaders\u001b[49m\u001b[43m,\u001b[49m\n\u001b[0;32m    704\u001b[0m \u001b[43m            \u001b[49m\u001b[43mstream\u001b[49m\u001b[38;5;241;43m=\u001b[39;49m\u001b[38;5;28;43;01mFalse\u001b[39;49;00m\u001b[43m,\u001b[49m\n\u001b[0;32m    705\u001b[0m \u001b[43m        \u001b[49m\u001b[43m)\u001b[49m,\n\u001b[0;32m    706\u001b[0m         \u001b[38;5;28;01mFalse\u001b[39;00m,\n\u001b[0;32m    707\u001b[0m     )\n",
      "File \u001b[1;32mc:\\Users\\bluecom010\\miniconda3\\envs\\OCR_C\\Lib\\site-packages\\openai\\api_requestor.py:765\u001b[0m, in \u001b[0;36mAPIRequestor._interpret_response_line\u001b[1;34m(self, rbody, rcode, rheaders, stream)\u001b[0m\n\u001b[0;32m    763\u001b[0m stream_error \u001b[38;5;241m=\u001b[39m stream \u001b[38;5;129;01mand\u001b[39;00m \u001b[38;5;124m\"\u001b[39m\u001b[38;5;124merror\u001b[39m\u001b[38;5;124m\"\u001b[39m \u001b[38;5;129;01min\u001b[39;00m resp\u001b[38;5;241m.\u001b[39mdata\n\u001b[0;32m    764\u001b[0m \u001b[38;5;28;01mif\u001b[39;00m stream_error \u001b[38;5;129;01mor\u001b[39;00m \u001b[38;5;129;01mnot\u001b[39;00m \u001b[38;5;241m200\u001b[39m \u001b[38;5;241m<\u001b[39m\u001b[38;5;241m=\u001b[39m rcode \u001b[38;5;241m<\u001b[39m \u001b[38;5;241m300\u001b[39m:\n\u001b[1;32m--> 765\u001b[0m     \u001b[38;5;28;01mraise\u001b[39;00m \u001b[38;5;28mself\u001b[39m\u001b[38;5;241m.\u001b[39mhandle_error_response(\n\u001b[0;32m    766\u001b[0m         rbody, rcode, resp\u001b[38;5;241m.\u001b[39mdata, rheaders, stream_error\u001b[38;5;241m=\u001b[39mstream_error\n\u001b[0;32m    767\u001b[0m     )\n\u001b[0;32m    768\u001b[0m \u001b[38;5;28;01mreturn\u001b[39;00m resp\n",
      "\u001b[1;31mRateLimitError\u001b[0m: Rate limit reached for gpt-3.5-turbo in organization org-JVaDpxulIrhm0AhGgZCwIvRN on requests per min (RPM): Limit 3, Used 3, Requested 1. Please try again in 20s. Visit https://platform.openai.com/account/rate-limits to learn more. You can increase your rate limit by adding a payment method to your account at https://platform.openai.com/account/billing."
     ]
    }
   ],
   "source": [
    "#openai api 속도제한으로 에러나는거\n",
    "# OpenAI의 고급 요금제를 구매하여 API 요청 속도 제한을 늘릴 수 있습니다\n",
    "import openai\n",
    "from PyPDF2 import PdfReader\n",
    "import tiktoken\n",
    "import os\n",
    "\n",
    "pdf_file = 'C:/Users/bluecom010/Desktop/지의/인공지능서비스_실습/pyai-main/pyai-main/data/President_Obamas_Farewell_Address_영어_원본.pdf' # PDF 파일 경로\n",
    "\n",
    "reader = PdfReader(pdf_file) # PDF 문서 읽기\n",
    "\n",
    "text_summaries = []\n",
    "\n",
    "for page in reader.pages:\n",
    "    page_text = page.extract_text() # 페이지의 텍스트 추출\n",
    "    text_summary = summarize_text(page_text)\n",
    "    text_summaries.append(text_summary)\n",
    "\n",
    "print(\"- 요약 개수:\", len(text_summaries))\n",
    "# print(\"- 페이지별 요약문:\", text_summaries)"
   ]
  },
  {
   "cell_type": "markdown",
   "metadata": {},
   "source": [
    "# summarize_test_final()\n",
    "- 여러 페이지 요약 리스트(test_summaries[])를 하나로 다시 요약한 함수"
   ]
  },
  {
   "cell_type": "code",
   "execution_count": 16,
   "metadata": {},
   "outputs": [],
   "source": [
    "import textwrap\n",
    "import tiktoken\n",
    "\n",
    "# 요약 리스트를 최종적으로 요약하는 함수\n",
    "def summarize_text_final(text_list, lang = 'en'):\n",
    "    # 리스트를 연결해 하나의 요약 문자열로 통합\n",
    "    joined_summary = \" \".join(text_list) \n",
    "\n",
    "    enc = tiktoken.encoding_for_model(\"gpt-3.5-turbo\")\n",
    "    token_num = len(enc.encode(joined_summary)) # 텍스트 문자열의 토큰 개수 구하기\n",
    "\n",
    "    req_max_token = 2000 # 응답을 고려해 설정한 최대 요청 토큰    \n",
    "    final_summary = \"\" # 빈 문자열로 초기화\n",
    "    if token_num < req_max_token: # 설정한 토큰보다 작을 때만 실행 가능\n",
    "        # 하나로 통합한 요약문을 다시 요약\n",
    "        final_summary = summarize_text(joined_summary, lang)\n",
    "        \n",
    "    return token_num, final_summary"
   ]
  },
  {
   "cell_type": "markdown",
   "metadata": {},
   "source": [
    "- final_summary를 영어로 요약"
   ]
  },
  {
   "cell_type": "code",
   "execution_count": 17,
   "metadata": {},
   "outputs": [
    {
     "name": "stdout",
     "output_type": "stream",
     "text": [
      "- 통합한 페이지 요약의 토큰 수: 220\n",
      "- 최종 요약(축약)\n",
      " President Obama delivered his Farewell Address in Chicago, expressing gratitude to the American people for their support during his presidency. He emphasized the importance of ordinary people coming together to create change, highlighting [..이하 생략..]\n"
     ]
    }
   ],
   "source": [
    "lang = 'en' # 영어로 요약\n",
    "token_num, final_summary = summarize_text_final(text_summaries, lang)\n",
    "\n",
    "if final_summary != \"\":\n",
    "    shorten_final_summary = textwrap.shorten(final_summary, \n",
    "                                             250, \n",
    "                                             placeholder=' [..이하 생략..]')\n",
    "    print(\"- 통합한 페이지 요약의 토큰 수:\", token_num)\n",
    "    print(\"- 최종 요약(축약)\\n\", shorten_final_summary) # 최종 요약문 출력(축약)"
   ]
  },
  {
   "cell_type": "markdown",
   "metadata": {},
   "source": [
    "- final_summart를 한국어로 요약"
   ]
  },
  {
   "cell_type": "code",
   "execution_count": 18,
   "metadata": {},
   "outputs": [
    {
     "name": "stdout",
     "output_type": "stream",
     "text": [
      "- 통합한 페이지 요약의 토큰 수: 220\n",
      "- 최종 요약(축약)\n",
      " 2017년 1월 10일, 오바마 대통령이 시카고에서 이별 연설을 진행했습니다. 그는 대통령으로 임기를 보낼 때 미국 국민들에게 감사를 표현하며 지지와 참여에 대해 강조했습니다. 오바마 대통령은 시카고 초기의 경험을 회고하며 보통 사람들이 변화를 이루기 위해 함께 모이는 중요성을 강조했습니다. 또한 미국의 핵심 가치인 평등과 자치 정부를 강조하며 시민들이 더 완벽한 연합체를 형성하기 위해 적극적으로 참여해야 한다고 [..이하 생략..]\n"
     ]
    }
   ],
   "source": [
    "lang = 'ko' # 한국어로 요약\n",
    "token_num, final_summary_ko = summarize_text_final(text_summaries, lang)\n",
    "\n",
    "if final_summary_ko != \"\":\n",
    "    shorten_final_summary_ko = textwrap.shorten(final_summary_ko, \n",
    "                                                250, \n",
    "                                                placeholder=' [..이하 생략..]')\n",
    "    print(\"- 통합한 페이지 요약의 토큰 수:\", token_num)\n",
    "    print(\"- 최종 요약(축약)\\n\", shorten_final_summary_ko) # 최종 요약문 출력(축약)"
   ]
  }
 ],
 "metadata": {
  "kernelspec": {
   "display_name": "OCR_C",
   "language": "python",
   "name": "python3"
  },
  "language_info": {
   "codemirror_mode": {
    "name": "ipython",
    "version": 3
   },
   "file_extension": ".py",
   "mimetype": "text/x-python",
   "name": "python",
   "nbconvert_exporter": "python",
   "pygments_lexer": "ipython3",
   "version": "3.11.5"
  }
 },
 "nbformat": 4,
 "nbformat_minor": 2
}
