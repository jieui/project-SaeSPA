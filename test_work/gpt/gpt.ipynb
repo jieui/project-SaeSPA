{
 "cells": [
  {
   "cell_type": "code",
   "execution_count": 17,
   "metadata": {},
   "outputs": [
    {
     "name": "stdout",
     "output_type": "stream",
     "text": [
      "Requirement already satisfied: openai in c:\\users\\user\\miniconda3\\envs\\saespa\\lib\\site-packages (1.13.3)\n",
      "Requirement already satisfied: anyio<5,>=3.5.0 in c:\\users\\user\\miniconda3\\envs\\saespa\\lib\\site-packages (from openai) (4.3.0)\n",
      "Requirement already satisfied: distro<2,>=1.7.0 in c:\\users\\user\\miniconda3\\envs\\saespa\\lib\\site-packages (from openai) (1.9.0)\n",
      "Requirement already satisfied: httpx<1,>=0.23.0 in c:\\users\\user\\miniconda3\\envs\\saespa\\lib\\site-packages (from openai) (0.27.0)\n",
      "Requirement already satisfied: pydantic<3,>=1.9.0 in c:\\users\\user\\miniconda3\\envs\\saespa\\lib\\site-packages (from openai) (2.6.3)\n",
      "Requirement already satisfied: sniffio in c:\\users\\user\\miniconda3\\envs\\saespa\\lib\\site-packages (from openai) (1.3.1)\n",
      "Requirement already satisfied: tqdm>4 in c:\\users\\user\\miniconda3\\envs\\saespa\\lib\\site-packages (from openai) (4.66.2)\n",
      "Requirement already satisfied: typing-extensions<5,>=4.7 in c:\\users\\user\\miniconda3\\envs\\saespa\\lib\\site-packages (from openai) (4.10.0)\n",
      "Requirement already satisfied: idna>=2.8 in c:\\users\\user\\miniconda3\\envs\\saespa\\lib\\site-packages (from anyio<5,>=3.5.0->openai) (3.6)\n",
      "Requirement already satisfied: certifi in c:\\users\\user\\miniconda3\\envs\\saespa\\lib\\site-packages (from httpx<1,>=0.23.0->openai) (2024.2.2)\n",
      "Requirement already satisfied: httpcore==1.* in c:\\users\\user\\miniconda3\\envs\\saespa\\lib\\site-packages (from httpx<1,>=0.23.0->openai) (1.0.4)\n",
      "Requirement already satisfied: h11<0.15,>=0.13 in c:\\users\\user\\miniconda3\\envs\\saespa\\lib\\site-packages (from httpcore==1.*->httpx<1,>=0.23.0->openai) (0.14.0)\n",
      "Requirement already satisfied: annotated-types>=0.4.0 in c:\\users\\user\\miniconda3\\envs\\saespa\\lib\\site-packages (from pydantic<3,>=1.9.0->openai) (0.6.0)\n",
      "Requirement already satisfied: pydantic-core==2.16.3 in c:\\users\\user\\miniconda3\\envs\\saespa\\lib\\site-packages (from pydantic<3,>=1.9.0->openai) (2.16.3)\n",
      "Requirement already satisfied: colorama in c:\\users\\user\\miniconda3\\envs\\saespa\\lib\\site-packages (from tqdm>4->openai) (0.4.6)\n"
     ]
    }
   ],
   "source": [
    "!pip install --upgrade openai"
   ]
  },
  {
   "cell_type": "code",
   "execution_count": 30,
   "metadata": {},
   "outputs": [],
   "source": [
    "def load_api_key(file_path):\n",
    "    with open(file_path, 'r') as file:\n",
    "        api_key = file.read().strip()\n",
    "    return api_key\n",
    "\n",
    "API_KEY_PATH = 'C:\\\\Users\\\\USER\\\\Desktop\\\\data\\\\SaeSPA\\\\OpenAI-Key.txt'\n",
    "API_KEY = load_api_key(API_KEY_PATH)"
   ]
  },
  {
   "cell_type": "code",
   "execution_count": 31,
   "metadata": {},
   "outputs": [],
   "source": [
    "from openai import OpenAI\n",
    "\n",
    "client = OpenAI(\n",
    "    api_key = API_KEY\n",
    ")"
   ]
  },
  {
   "cell_type": "code",
   "execution_count": 34,
   "metadata": {},
   "outputs": [],
   "source": [
    "response = client.chat.completions.create(\n",
    "  model = \"gpt-3.5-turbo\",\n",
    "  messages = [\n",
    "    {\"role\": \"system\", \"content\": \"너는 텍스트기반으로 요약을 해주는 전문직이야. 질문으로 텍스트 정보를 넣으면 그 부분에 대해서 요약을 해줘.\"},\n",
    "    {\"role\": \"user\", \"content\": \"Guido van Rossum에 의해 1989년 말 개발되기 시작하여, 1991년에 첫 번째 공식 버전인 Python 0.9.0이 발표되었습니다. 이후 Python은 지속적으로 발전해왔으며, 현재는 웹 개발, 데이터 과학, 인공 지능, 과학 계산, 자동화 스크립트 등 다양한 분야에서 널리 사용되고 있습니다. Python의 주요 특징 중 하나는 그 다양한 응용 프로그램을 지원하는 방대한 표준 라이브러리와 서드파티 라이브러리들입니다. 예를 들어, 웹 개발을 위한 Django와 Flask, 데이터 분석을 위한 Pandas와 NumPy, 머신러닝을 위한 TensorFlow와 PyTorch 등이 있습니다. 이러한 라이브러리들은 Python을 매우 강력하게 만들어 주며, 개발자들이 보다 쉽게 복잡한 작업을 수행할 수 있도록 돕습니다. Python은 또한 초보자부터 전문가까지 모든 수준의 프로그래머에게 적합합니다. 문법이 간결하고 이해하기 쉬워 프로그래밍을 처음 시작하는 사람들에게 매우 인기가 있으며, 실제로 많은 대학과 교육 기관에서 프로그래밍의 입문 언어로 Python을 권장합니다. 동시에, Python은 성능과 확장성 측면에서도 강력하여 많은 기업과 연구 기관에서 복잡한 시스템과 애플리케이션 개발에 사용하고 있습니다. Python의 또 다른 중요한 특징은 그 활발한 커뮤니티와 오픈 소스 개발 문화입니다. 전 세계의 수많은 개발자와 기여자들이 Python과 관련된 프로젝트에 참여하고 있으며, 이는 언어의 지속적인 개선과 발전에 크게 기여하고 있습니다. Python 소프트웨어 재단(PSF)은 Python 커뮤니티를 지원하고 Python의 발전을 촉진하는 비영리 조직으로, 매년 여러 Python 관련 컨퍼런스와 모임을 주최합니다. 결론적으로, Python은 그 사용의 용이성, 강력한 라이브러리, 다양한 사용 사례, 활발한 커뮤니티로 인해 현재 가장 인기 있는 프로그래밍 언어 중 하나입니다.\"}\n",
    "  ]\n",
    ")"
   ]
  },
  {
   "cell_type": "code",
   "execution_count": 26,
   "metadata": {},
   "outputs": [
    {
     "data": {
      "text/plain": [
       "ChatCompletionMessage(content='Python은 Guido van Rossum에 의해 1989년 말 개발되기 시작하여, 1991년에 첫 번째 공식 버전인 Python 0.9.0이 발표되었습니다. Python은 웹 개발, 데이터 분석, 머신러닝 등 다양한 분야에서 널리 사용되며, 라이브러리들로 인해 강력하게 만들어져 있습니다. Python은 초보자부터 전문가까지 모든 수준의 프로그래머에게 적합하며, 간결한 문법으로 인해 프로그래밍 입문자들 사이에서 인기가 있습니다. 또한 Python은 활발한 커뮤니티와 오픈 소스 문화를 갖춘 언어이며, Python 소프트웨어 재단을 통해 지원받고 있습니다. 이러한 이유로 Python은 현재 가장 인기 있는 프로그래밍 언어 중 하나로 평가되고 있습니다.', role='assistant', function_call=None, tool_calls=None)"
      ]
     },
     "execution_count": 26,
     "metadata": {},
     "output_type": "execute_result"
    }
   ],
   "source": [
    "response.choices[0].message"
   ]
  }
 ],
 "metadata": {
  "kernelspec": {
   "display_name": "saespa",
   "language": "python",
   "name": "python3"
  },
  "language_info": {
   "codemirror_mode": {
    "name": "ipython",
    "version": 3
   },
   "file_extension": ".py",
   "mimetype": "text/x-python",
   "name": "python",
   "nbconvert_exporter": "python",
   "pygments_lexer": "ipython3",
   "version": "3.11.8"
  }
 },
 "nbformat": 4,
 "nbformat_minor": 2
}
